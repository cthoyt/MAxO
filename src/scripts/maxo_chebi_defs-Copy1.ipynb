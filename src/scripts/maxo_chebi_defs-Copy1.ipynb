{
 "cells": [
  {
   "cell_type": "code",
   "execution_count": 2,
   "metadata": {},
   "outputs": [],
   "source": [
    "import pandas as pd\n",
    "import csv\n",
    "import re"
   ]
  },
  {
   "cell_type": "code",
   "execution_count": 3,
   "metadata": {},
   "outputs": [
    {
     "name": "stdout",
     "output_type": "stream",
     "text": [
      "                                            ?cls          ?xref  \\\n",
      "0  <http://purl.obolibrary.org/obo/MAXO_0000468>   NCIT:C159340   \n",
      "1  <http://purl.obolibrary.org/obo/MAXO_0000066>    NCIT:C94624   \n",
      "2  <http://purl.obolibrary.org/obo/MAXO_0000004>    NCIT:C15329   \n",
      "3  <http://purl.obolibrary.org/obo/MAXO_0000746>  PMID:25006279   \n",
      "4  <http://purl.obolibrary.org/obo/MAXO_0001006>    NCIT:C28133   \n",
      "\n",
      "                                                ?def  \n",
      "0  A minimally invasive procedure that permits sa...  \n",
      "1  The administration of oxygen to an individual,...  \n",
      "2  A diagnostic or treatment procedure performed ...  \n",
      "3  A test to detect chromosomal breakage or aberr...  \n",
      "4  The determination of the number of red blood c...                                               ?cls  \\\n",
      "0  <http://purl.obolibrary.org/obo/CHEBI_141566>   \n",
      "1   <http://purl.obolibrary.org/obo/CHEBI_15646>   \n",
      "2   <http://purl.obolibrary.org/obo/CHEBI_16945>   \n",
      "3    <http://purl.obolibrary.org/obo/CHEBI_1602>   \n",
      "4   <http://purl.obolibrary.org/obo/CHEBI_50904>   \n",
      "\n",
      "                                                ?def  \n",
      "0  An enone that is hex-3-ene in which the methyl...  \n",
      "1       The 20-hydroxy derivative of leukotriene B4.  \n",
      "2  A cyclic ketone that is 3,4-dihydronaphthalen-...  \n",
      "3  A monomethoxyflavone that is galangin in which...  \n",
      "4  A chemical compound, or part thereof, which ca...  \n"
     ]
    }
   ],
   "source": [
    "# names of files to read from\n",
    "r_maxo_classes_with_definitionsTSV = '~/Git/MAxO/src/ontology/sparql-test/maxo_classes_with_definitions.tsv'\n",
    "r_chebi_definitionsTSV = '~/Git/MAxO/src/ontology/sparql-test/chebi_definitions.tsv'\n",
    "\n",
    "tsv_read_maxo = pd.read_csv(r_maxo_classes_with_definitionsTSV, sep='\\t')\n",
    "tsv_read_chebi = pd.read_csv(r_chebi_definitionsTSV, sep='\\t')\n",
    "\n",
    "\n",
    "maxo_id=list()\n",
    "chebi_id=list()\n",
    "\n",
    "print(tsv_read_maxo.head(), tsv_read_chebi.head())\n",
    "    # write to files\n",
    "\n"
   ]
  },
  {
   "cell_type": "code",
   "execution_count": 4,
   "metadata": {},
   "outputs": [
    {
     "data": {
      "text/plain": [
       "Index(['?cls', '?def'], dtype='object')"
      ]
     },
     "execution_count": 4,
     "metadata": {},
     "output_type": "execute_result"
    }
   ],
   "source": [
    "tsv_read_chebi.columns"
   ]
  },
  {
   "cell_type": "code",
   "execution_count": 6,
   "metadata": {},
   "outputs": [],
   "source": [
    "from pandas import DataFrame\n",
    "\n",
    "x=()\n",
    "mylist=[]\n",
    "newlist=list()\n",
    "#extract just the maxo_id\n",
    "maxo_id = pd.DataFrame(tsv_read_maxo)\n",
    "cols = [\"?cls\",\"?xref\",\"?def\"]\n",
    "maxo_id = maxo_id[maxo_id.columns[0]]\n",
    "for line in maxo_id:\n",
    "    line=line.strip('/')\n",
    "    x=re.findall('[A-Z]{4,11}_[A-Z0-9]{1,15}', line)\n",
    "    x=[item.replace('_', ':') for item in x]\n",
    "    mylist.append(x)\n",
    "    maxo_df= DataFrame(mylist,columns=['Maxo_ID'])\n",
    "\n",
    "maxo_id_def= maxo_df.join(tsv_read_maxo, lsuffix=\"_left\", rsuffix=\"_right\")\n",
    "    \n",
    "with open(\"maxo_xref_definitions.tsv\",'wb') as out:\n",
    "    maxo_id_def.to_csv('maxo_xref_definitions.tsv', encoding='utf-8', sep='\\t', index=False)\n",
    "    \n",
    "    "
   ]
  },
  {
   "cell_type": "code",
   "execution_count": 7,
   "metadata": {},
   "outputs": [
    {
     "name": "stdout",
     "output_type": "stream",
     "text": [
      "       CHEBI_ID                                           ?cls  \\\n",
      "0  CHEBI:141566  <http://purl.obolibrary.org/obo/CHEBI_141566>   \n",
      "1   CHEBI:15646   <http://purl.obolibrary.org/obo/CHEBI_15646>   \n",
      "\n",
      "                                                ?def  \n",
      "0  An enone that is hex-3-ene in which the methyl...  \n",
      "1       The 20-hydroxy derivative of leukotriene B4.  \n"
     ]
    }
   ],
   "source": [
    "y=()\n",
    "newlist=[]\n",
    "#extract just the ncit_id\n",
    "chebi_id = pd.DataFrame(tsv_read_chebi)\n",
    "cols = [\"?cls\",\"?def\"]\n",
    "chebi_id = chebi_id[chebi_id.columns[0]]\n",
    "\n",
    "for line in chebi_id:\n",
    "    line=line.strip('/')\n",
    "    y=re.findall('[A-Z]{4,11}_[A-Z0-9]{1,15}', line)\n",
    "    y=[item.replace('_', ':') for item in y]\n",
    "    newlist.append(y)\n",
    "    chebi_df= DataFrame(newlist,columns=['CHEBI_ID'])\n",
    "chebi_id_def= chebi_df.join(tsv_read_chebi, lsuffix=\"_left\", rsuffix=\"_right\")\n",
    "print(chebi_id_def.head(2))\n",
    "    \n",
    "with open(\"chebi_definitions.tsv\",'wb') as out:\n",
    "    chebi_id_def.to_csv('chebi_definitions.tsv', encoding='utf-8', sep='\\t', index=False)\n",
    "    "
   ]
  },
  {
   "cell_type": "markdown",
   "metadata": {},
   "source": [
    "ncit_id_def.info"
   ]
  },
  {
   "cell_type": "code",
   "execution_count": 8,
   "metadata": {},
   "outputs": [
    {
     "name": "stdout",
     "output_type": "stream",
     "text": [
      "        Maxo_ID                                           ?cls             ID  \\\n",
      "0  MAXO:0000468  <http://purl.obolibrary.org/obo/MAXO_0000468>   NCIT:C159340   \n",
      "1  MAXO:0000066  <http://purl.obolibrary.org/obo/MAXO_0000066>    NCIT:C94624   \n",
      "2  MAXO:0000004  <http://purl.obolibrary.org/obo/MAXO_0000004>    NCIT:C15329   \n",
      "3  MAXO:0000746  <http://purl.obolibrary.org/obo/MAXO_0000746>  PMID:25006279   \n",
      "4  MAXO:0001006  <http://purl.obolibrary.org/obo/MAXO_0001006>    NCIT:C28133   \n",
      "\n",
      "                                                ?def  \n",
      "0  A minimally invasive procedure that permits sa...  \n",
      "1  The administration of oxygen to an individual,...  \n",
      "2  A diagnostic or treatment procedure performed ...  \n",
      "3  A test to detect chromosomal breakage or aberr...  \n",
      "4  The determination of the number of red blood c...  \n"
     ]
    }
   ],
   "source": [
    "\n",
    "maxo_id_def.columns = [\"Maxo_ID\",\"?cls\",\"ID\",\"?def\"]\n",
    "print(maxo_id_def.head())"
   ]
  },
  {
   "cell_type": "code",
   "execution_count": 9,
   "metadata": {},
   "outputs": [],
   "source": [
    "maxo_id_list= []\n",
    "maxo_def_list= []\n",
    "maxo_def_xref_list= []\n",
    "chebi_id_list=[]\n",
    "chebi_def_list= []\n",
    "for index, row in maxo_id_def.iterrows():\n",
    "    if row[2].startswith(\"CHEBI:\"):\n",
    "        for index, rows in chebi_id_def.iterrows():\n",
    "            #determine if the the MAXO def xref matches the Chebi ID\n",
    "            if row[2] == rows[0]:\n",
    "                maxo_id_list.append(row[0])\n",
    "                maxo_def_list.append(row[3])\n",
    "                maxo_def_xref_list.append(row[2])\n",
    "                chebi_id_list.append(rows[0])\n",
    "                chebi_def_list.append(rows[2])\n",
    "            else:\n",
    "                continue\n",
    "\n"
   ]
  },
  {
   "cell_type": "code",
   "execution_count": 10,
   "metadata": {},
   "outputs": [
    {
     "name": "stdout",
     "output_type": "stream",
     "text": [
      "        maxo_id                                           maxo_def  \\\n",
      "0  MAXO:0000269  H2-receptor antagonists are the drugs that sel...   \n",
      "1  MAXO:0001026  An agent that selectively binds to and activat...   \n",
      "2  MAXO:0000445  A drug that prevents fibrinolysis or lysis of ...   \n",
      "3  MAXO:0000220  Treatment with a class of steroid hormones tha...   \n",
      "4  MAXO:0000446  A synthetic analogue of vasopressin in which 3...   \n",
      "\n",
      "  maxo_def_xref     chebi_id  \\\n",
      "0   CHEBI:37961  CHEBI:37961   \n",
      "1   CHEBI:35522  CHEBI:35522   \n",
      "2   CHEBI:48675  CHEBI:48675   \n",
      "3   CHEBI:24261  CHEBI:24261   \n",
      "4    CHEBI:4450   CHEBI:4450   \n",
      "\n",
      "                                           chebi_def  \n",
      "0  H2-receptor antagonists are the drugs that sel...  \n",
      "1  An agent that selectively binds to and activat...  \n",
      "2  A drug that prevent fibrinolysis or lysis of a...  \n",
      "3  Glucocorticoids are a class of steroid hormone...  \n",
      "4  A synthetic analogue of vasopressin in which 3...  \n"
     ]
    }
   ],
   "source": [
    "\n",
    "maxo_chebi_def_df=pd.DataFrame(list(zip(maxo_id_list, maxo_def_list, maxo_def_xref_list, chebi_id_list, chebi_def_list)), columns=[\"maxo_id\",\"maxo_def\", \"maxo_def_xref\",\"chebi_id\", \"chebi_def\"])\n",
    "print(maxo_chebi_def_df.head())\n",
    "\n",
    "with open(\"maxo_chebi_def.tsv\",'wb') as out:\n",
    "    maxo_chebi_def_df.to_csv('maxo_chebi_def.tsv', encoding='utf-8', sep='\\t', index=False)\n",
    "    \n"
   ]
  },
  {
   "cell_type": "code",
   "execution_count": 20,
   "metadata": {},
   "outputs": [
    {
     "name": "stdout",
     "output_type": "stream",
     "text": [
      "[]\n"
     ]
    }
   ],
   "source": []
  },
  {
   "cell_type": "code",
   "execution_count": null,
   "metadata": {},
   "outputs": [],
   "source": []
  }
 ],
 "metadata": {
  "kernelspec": {
   "display_name": "Python 3",
   "language": "python",
   "name": "python3"
  },
  "language_info": {
   "codemirror_mode": {
    "name": "ipython",
    "version": 3
   },
   "file_extension": ".py",
   "mimetype": "text/x-python",
   "name": "python",
   "nbconvert_exporter": "python",
   "pygments_lexer": "ipython3",
   "version": "3.7.3"
  }
 },
 "nbformat": 4,
 "nbformat_minor": 4
}
