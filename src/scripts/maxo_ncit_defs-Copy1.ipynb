{
 "cells": [
  {
   "cell_type": "code",
   "execution_count": 3,
   "metadata": {},
   "outputs": [],
   "source": [
    "import pandas as pd\n",
    "import csv\n",
    "import re"
   ]
  },
  {
   "cell_type": "code",
   "execution_count": 4,
   "metadata": {},
   "outputs": [
    {
     "name": "stdout",
     "output_type": "stream",
     "text": [
      "                                            ?cls          ?xref  \\\n",
      "0  <http://purl.obolibrary.org/obo/MAXO_0000468>   NCIT:C159340   \n",
      "1  <http://purl.obolibrary.org/obo/MAXO_0000066>    NCIT:C94624   \n",
      "2  <http://purl.obolibrary.org/obo/MAXO_0000004>    NCIT:C15329   \n",
      "3  <http://purl.obolibrary.org/obo/MAXO_0000746>  PMID:25006279   \n",
      "4  <http://purl.obolibrary.org/obo/MAXO_0001006>    NCIT:C28133   \n",
      "\n",
      "                                                ?def  \n",
      "0  A minimally invasive procedure that permits sa...  \n",
      "1  The administration of oxygen to an individual,...  \n",
      "2  A diagnostic or treatment procedure performed ...  \n",
      "3  A test to detect chromosomal breakage or aberr...  \n",
      "4  The determination of the number of red blood c...  \n"
     ]
    }
   ],
   "source": [
    "# names of files to read from\n",
    "r_maxo_classes_with_definitionsTSV = '~/Git/MAxO/src/ontology/sparql-test/maxo_classes_with_definitions.tsv'\n",
    "r_ncit_definitionsTSV = '~/Git/MAxO/src/ontology/sparql-test/ncit_definitions.tsv'\n",
    "\n",
    "tsv_read_maxo = pd.read_csv(r_maxo_classes_with_definitionsTSV, sep='\\t')\n",
    "tsv_read_ncit = pd.read_csv(r_ncit_definitionsTSV, sep='\\t')\n",
    "\n",
    "maxo_id=list()\n",
    "ncit_id=list()\n"
   ]
  },
  {
   "cell_type": "code",
   "execution_count": 4,
   "metadata": {},
   "outputs": [
    {
     "data": {
      "text/plain": [
       "Index(['?cls', '?xref', '?def'], dtype='object')"
      ]
     },
     "execution_count": 4,
     "metadata": {},
     "output_type": "execute_result"
    }
   ],
   "source": [
    "tsv_read_maxo.columns"
   ]
  },
  {
   "cell_type": "code",
   "execution_count": 5,
   "metadata": {
    "collapsed": true,
    "jupyter": {
     "outputs_hidden": true
    }
   },
   "outputs": [
    {
     "name": "stdout",
     "output_type": "stream",
     "text": [
      "        Maxo_ID                                           ?cls         ?xref  \\\n",
      "0  MAXO:0000468  <http://purl.obolibrary.org/obo/MAXO_0000468>  NCIT:C159340   \n",
      "1  MAXO:0000066  <http://purl.obolibrary.org/obo/MAXO_0000066>   NCIT:C94624   \n",
      "\n",
      "                                                ?def  \n",
      "0  A minimally invasive procedure that permits sa...  \n",
      "1  The administration of oxygen to an individual,...                                               ?cls  \\\n",
      "0  <http://purl.obolibrary.org/obo/NCIT_C158053>   \n",
      "1   <http://purl.obolibrary.org/obo/NCIT_C81003>   \n",
      "\n",
      "                                                ?def  \n",
      "0  A change in the amino acid residue at position...  \n",
      "1  The act of bending one's back forward from the...  \n"
     ]
    }
   ],
   "source": [
    "from pandas import DataFrame\n",
    "\n",
    "x=()\n",
    "mylist=[]\n",
    "newlist=list()\n",
    "#extract just the maxo_id\n",
    "maxo_id = pd.DataFrame(tsv_read_maxo)\n",
    "cols = [\"?cls\",\"?xref\",\"?def\"]\n",
    "maxo_id = maxo_id[maxo_id.columns[0]]\n",
    "for line in maxo_id:\n",
    "    line=line.strip('/')\n",
    "    x=re.findall('[A-Z]{4,11}_[A-Z0-9]{1,15}', line)\n",
    "    x=[item.replace('_', ':') for item in x]\n",
    "    mylist.append(x)\n",
    "    maxo_df= DataFrame(mylist,columns=['Maxo_ID'])\n",
    "\n",
    "maxo_id_def= maxo_df.join(tsv_read_maxo, lsuffix=\"_left\", rsuffix=\"_right\")\n",
    "print(maxo_id_def.head(2))\n",
    "    \n",
    "with open(\"maxo_xref_definitions.tsv\",'wb') as out:\n",
    "    maxo_id_def.to_csv('maxo_xref_definitions.tsv', encoding='utf-8', sep='\\t', index=False)\n",
    "    \n",
    "    "
   ]
  },
  {
   "cell_type": "code",
   "execution_count": 6,
   "metadata": {
    "collapsed": true,
    "jupyter": {
     "outputs_hidden": true
    }
   },
   "outputs": [
    {
     "name": "stdout",
     "output_type": "stream",
     "text": [
      "        NCIT_ID                                           ?cls  \\\n",
      "0  NCIT:C158053  <http://purl.obolibrary.org/obo/NCIT_C158053>   \n",
      "1   NCIT:C81003   <http://purl.obolibrary.org/obo/NCIT_C81003>   \n",
      "\n",
      "                                                ?def  \n",
      "0  A change in the amino acid residue at position...  \n",
      "1  The act of bending one's back forward from the...                                               ?cls  \\\n",
      "0  <http://purl.obolibrary.org/obo/NCIT_C158053>   \n",
      "1   <http://purl.obolibrary.org/obo/NCIT_C81003>   \n",
      "\n",
      "                                                ?def  \n",
      "0  A change in the amino acid residue at position...  \n",
      "1  The act of bending one's back forward from the...  \n"
     ]
    }
   ],
   "source": [
    "y=()\n",
    "newlist=[]\n",
    "#extract just the ncit_id\n",
    "ncit_id = pd.DataFrame(tsv_read_ncit)\n",
    "cols = [\"?cls\",\"?def\"]\n",
    "ncit_id = ncit_id[ncit_id.columns[0]]\n",
    "\n",
    "for line in ncit_id:\n",
    "    line=line.strip('/')\n",
    "    y=re.findall('[A-Z]{4,11}_[A-Z0-9]{1,15}', line)\n",
    "    y=[item.replace('_', ':') for item in y]\n",
    "    newlist.append(y)\n",
    "    ncit_df= DataFrame(newlist,columns=['NCIT_ID'])\n",
    "ncit_id_def= ncit_df.join(tsv_read_ncit, lsuffix=\"_left\", rsuffix=\"_right\")\n",
    "print(ncit_id_def.head(2))\n",
    "    \n",
    "with open(\"ncit_definitions.tsv\",'wb') as out:\n",
    "    ncit_id_def.to_csv('ncit_definitions.tsv', encoding='utf-8', sep='\\t', index=False)\n",
    "    "
   ]
  },
  {
   "cell_type": "markdown",
   "metadata": {},
   "source": [
    "ncit_id_def.info"
   ]
  },
  {
   "cell_type": "code",
   "execution_count": 7,
   "metadata": {},
   "outputs": [
    {
     "name": "stdout",
     "output_type": "stream",
     "text": [
      "        Maxo_ID                                           ?cls             ID  \\\n",
      "0  MAXO:0000468  <http://purl.obolibrary.org/obo/MAXO_0000468>   NCIT:C159340   \n",
      "1  MAXO:0000066  <http://purl.obolibrary.org/obo/MAXO_0000066>    NCIT:C94624   \n",
      "2  MAXO:0000004  <http://purl.obolibrary.org/obo/MAXO_0000004>    NCIT:C15329   \n",
      "3  MAXO:0000746  <http://purl.obolibrary.org/obo/MAXO_0000746>  PMID:25006279   \n",
      "4  MAXO:0001006  <http://purl.obolibrary.org/obo/MAXO_0001006>    NCIT:C28133   \n",
      "\n",
      "                                                ?def  \n",
      "0  A minimally invasive procedure that permits sa...  \n",
      "1  The administration of oxygen to an individual,...  \n",
      "2  A diagnostic or treatment procedure performed ...  \n",
      "3  A test to detect chromosomal breakage or aberr...  \n",
      "4  The determination of the number of red blood c...  \n"
     ]
    }
   ],
   "source": [
    "\n",
    "maxo_id_def.columns = [\"Maxo_ID\",\"?cls\",\"ID\",\"?def\"]\n",
    "print(maxo_id_def.head())"
   ]
  },
  {
   "cell_type": "code",
   "execution_count": 21,
   "metadata": {},
   "outputs": [],
   "source": [
    "maxo_id_list= []\n",
    "maxo_def_list= []\n",
    "maxo_def_xref_list= []\n",
    "ncit_id_list=[]\n",
    "ncit_def_list= []\n",
    "for index, row in maxo_id_def.iterrows():\n",
    "    if row[2].startswith(\"NCIT:\"):\n",
    "        for index, rows in ncit_id_def.iterrows():\n",
    "            #determine if the the MAXO def xref matches the NCIT ID\n",
    "            if row[2] == rows[0]:\n",
    "                maxo_id_list.append(row[0])\n",
    "                maxo_def_list.append(row[3])\n",
    "                maxo_def_xref_list.append(row[2])\n",
    "                ncit_id_list.append(rows[0])\n",
    "                ncit_def_list.append(rows[2])\n",
    "            else:\n",
    "                continue\n"
   ]
  },
  {
   "cell_type": "code",
   "execution_count": 23,
   "metadata": {},
   "outputs": [
    {
     "name": "stdout",
     "output_type": "stream",
     "text": [
      "        maxo_id                                           maxo_def  \\\n",
      "0  MAXO:0000468  A minimally invasive procedure that permits sa...   \n",
      "1  MAXO:0000066  The administration of oxygen to an individual,...   \n",
      "2  MAXO:0000004  A diagnostic or treatment procedure performed ...   \n",
      "3  MAXO:0001006  The determination of the number of red blood c...   \n",
      "4  MAXO:0000011  The treatment of deformity or disease through ...   \n",
      "\n",
      "  maxo_def_xref       ncit_id  \\\n",
      "0  NCIT:C159340  NCIT:C159340   \n",
      "1   NCIT:C94624   NCIT:C94624   \n",
      "2   NCIT:C15329   NCIT:C15329   \n",
      "3   NCIT:C28133   NCIT:C28133   \n",
      "4   NCIT:C15302   NCIT:C15302   \n",
      "\n",
      "                                            ncit_def  \n",
      "0  A minimally invasive procedure that permits sa...  \n",
      "1  The administration of oxygen to an individual,...  \n",
      "2  A diagnostic or treatment procedure performed ...  \n",
      "3  The determination of the number of red blood c...  \n",
      "4  The treatment of deformity or disease through ...  \n"
     ]
    }
   ],
   "source": [
    "\n",
    "maxo_ncit_def_df=pd.DataFrame(list(zip(maxo_id_list, maxo_def_list, maxo_def_xref_list, ncit_id_list, ncit_def_list)), columns=[\"maxo_id\",\"maxo_def\", \"maxo_def_xref\",\"ncit_id\", \"ncit_def\"])\n",
    "print(maxo_ncit_def_df.head())\n",
    "\n",
    "with open(\"maxo_ncit_def.tsv\",'wb') as out:\n",
    "    maxo_ncit_def_df.to_csv('maxo_ncit_def.tsv', encoding='utf-8', sep='\\t', index=False)\n",
    "    \n"
   ]
  }
 ],
 "metadata": {
  "kernelspec": {
   "display_name": "Python 3",
   "language": "python",
   "name": "python3"
  },
  "language_info": {
   "codemirror_mode": {
    "name": "ipython",
    "version": 3
   },
   "file_extension": ".py",
   "mimetype": "text/x-python",
   "name": "python",
   "nbconvert_exporter": "python",
   "pygments_lexer": "ipython3",
   "version": "3.7.3"
  }
 },
 "nbformat": 4,
 "nbformat_minor": 4
}
