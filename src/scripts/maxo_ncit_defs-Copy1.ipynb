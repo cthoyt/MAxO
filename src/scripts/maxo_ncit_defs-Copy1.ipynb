{
 "cells": [
  {
   "cell_type": "code",
   "execution_count": 1,
   "metadata": {},
   "outputs": [],
   "source": [
    "import pandas as pd\n",
    "import csv\n",
    "import re"
   ]
  },
  {
   "cell_type": "code",
   "execution_count": 2,
   "metadata": {},
   "outputs": [],
   "source": [
    "# names of files to read from\n",
    "r_maxo_classes_with_definitionsTSV = '~/Git/MAxO/src/ontology/sparql-test/maxo_classes_with_definitions.tsv'\n",
    "r_ncit_definitionsTSV = '~/Git/MAxO/src/ontology/sparql-test/ncit_definitions.tsv'\n",
    "\n",
    "tsv_read_maxo = pd.read_csv(r_maxo_classes_with_definitionsTSV, sep='\\t')\n",
    "tsv_read_ncit = pd.read_csv(r_ncit_definitionsTSV, sep='\\t')\n",
    "\n",
    "maxo_id=list()\n",
    "ncit_id=list()\n"
   ]
  },
  {
   "cell_type": "code",
   "execution_count": 3,
   "metadata": {},
   "outputs": [
    {
     "data": {
      "text/plain": [
       "Index(['?cls', '?xref', '?def'], dtype='object')"
      ]
     },
     "execution_count": 3,
     "metadata": {},
     "output_type": "execute_result"
    }
   ],
   "source": [
    "tsv_read_maxo.columns"
   ]
  },
  {
   "cell_type": "code",
   "execution_count": 4,
   "metadata": {
    "collapsed": true,
    "jupyter": {
     "outputs_hidden": true
    }
   },
   "outputs": [
    {
     "name": "stdout",
     "output_type": "stream",
     "text": [
      "        Maxo_ID                                           ?cls         ?xref  \\\n",
      "0  MAXO:0000455  <http://purl.obolibrary.org/obo/MAXO_0000455>   NCIT:C15215   \n",
      "1  MAXO:0000454  <http://purl.obolibrary.org/obo/MAXO_0000454>  NCIT:C111157   \n",
      "\n",
      "                                                ?def  \n",
      "0  The use of extreme cold to damage or destroy a...  \n",
      "1  Removal, separation, detachment, extirpation, ...  \n"
     ]
    }
   ],
   "source": [
    "from pandas import DataFrame\n",
    "\n",
    "x=()\n",
    "mylist=[]\n",
    "newlist=list()\n",
    "#extract class IRI, definition, and xref from maxo file\n",
    "maxo_id = pd.DataFrame(tsv_read_maxo)\n",
    "cols = [\"?cls\",\"?xref\",\"?def\"]\n",
    "#extract MAXO ID from class IRI\n",
    "maxo_id = maxo_id[maxo_id.columns[0]]\n",
    "for line in maxo_id:\n",
    "    line=line.strip('/')\n",
    "    x=re.findall('[A-Z]{4,11}_[A-Z0-9]{1,15}', line)\n",
    "    x=[item.replace('_', ':') for item in x]\n",
    "    mylist.append(x)\n",
    "    maxo_df= DataFrame(mylist,columns=['Maxo_ID'])\n",
    "#join maxo ID to the file\n",
    "maxo_id_def= maxo_df.join(tsv_read_maxo, lsuffix=\"_left\", rsuffix=\"_right\")\n",
    "print(maxo_id_def.head(2))\n",
    "    \n",
    "with open(\"maxo_xref_definitions.tsv\",'wb') as out:\n",
    "    maxo_id_def.to_csv('maxo_xref_definitions.tsv', encoding='utf-8', sep='\\t', index=False)\n",
    "    \n",
    "    "
   ]
  },
  {
   "cell_type": "code",
   "execution_count": 5,
   "metadata": {
    "collapsed": true,
    "jupyter": {
     "outputs_hidden": true
    }
   },
   "outputs": [
    {
     "name": "stdout",
     "output_type": "stream",
     "text": [
      "        NCIT_ID                                           ?cls  \\\n",
      "0  NCIT:C104459  <http://purl.obolibrary.org/obo/NCIT_C104459>   \n",
      "1  NCIT:C113621  <http://purl.obolibrary.org/obo/NCIT_C113621>   \n",
      "\n",
      "                                                ?def  \n",
      "0           A protein encoded by the human BID gene.  \n",
      "1  H/ACA ribonucleoprotein complex subunit 4 (514...  \n"
     ]
    }
   ],
   "source": [
    "y=()\n",
    "newlist=[]\n",
    "#extract just the ncit_id\n",
    "ncit_id = pd.DataFrame(tsv_read_ncit)\n",
    "cols = [\"?cls\",\"?def\"]\n",
    "ncit_id = ncit_id[ncit_id.columns[0]]\n",
    "\n",
    "for line in ncit_id:\n",
    "    line=line.strip('/')\n",
    "    y=re.findall('[A-Z]{4,11}_[A-Z0-9]{1,15}', line)\n",
    "    y=[item.replace('_', ':') for item in y]\n",
    "    newlist.append(y)\n",
    "    ncit_df= DataFrame(newlist,columns=['NCIT_ID'])\n",
    "ncit_id_def= ncit_df.join(tsv_read_ncit, lsuffix=\"_left\", rsuffix=\"_right\")\n",
    "print(ncit_id_def.head(2))\n",
    "    \n",
    "with open(\"ncit_definitions.tsv\",'wb') as out:\n",
    "    ncit_id_def.to_csv('ncit_definitions.tsv', encoding='utf-8', sep='\\t', index=False)\n",
    "    "
   ]
  },
  {
   "cell_type": "markdown",
   "metadata": {},
   "source": [
    "ncit_id_def.info"
   ]
  },
  {
   "cell_type": "code",
   "execution_count": 6,
   "metadata": {
    "collapsed": true,
    "jupyter": {
     "outputs_hidden": true,
     "source_hidden": true
    }
   },
   "outputs": [
    {
     "name": "stdout",
     "output_type": "stream",
     "text": [
      "        Maxo_ID                                           ?cls  \\\n",
      "0  MAXO:0000455  <http://purl.obolibrary.org/obo/MAXO_0000455>   \n",
      "1  MAXO:0000454  <http://purl.obolibrary.org/obo/MAXO_0000454>   \n",
      "2  MAXO:0000714  <http://purl.obolibrary.org/obo/MAXO_0000714>   \n",
      "3  MAXO:0000196  <http://purl.obolibrary.org/obo/MAXO_0000196>   \n",
      "4  MAXO:0000300  <http://purl.obolibrary.org/obo/MAXO_0000300>   \n",
      "\n",
      "                                       ID  \\\n",
      "0                             NCIT:C15215   \n",
      "1                            NCIT:C111157   \n",
      "2                                abms.org   \n",
      "3  <http://orcid.org/0000-0001-7941-2961>   \n",
      "4                           PMID:21857074   \n",
      "\n",
      "                                                ?def  \n",
      "0  The use of extreme cold to damage or destroy a...  \n",
      "1  Removal, separation, detachment, extirpation, ...  \n",
      "2  Evaluation by a physician who specializes in t...  \n",
      "3  An antibacterial substance with aminoglycoside...  \n",
      "4  The drug treatment of inflammatory bowel disea...  \n"
     ]
    }
   ],
   "source": [
    "\n",
    "maxo_id_def.columns = [\"Maxo_ID\",\"?cls\",\"ID\",\"?def\"]\n",
    "print(maxo_id_def.head())"
   ]
  },
  {
   "cell_type": "code",
   "execution_count": 6,
   "metadata": {},
   "outputs": [],
   "source": [
    "maxo_id_list= []\n",
    "maxo_def_list= []\n",
    "maxo_def_xref_list= []\n",
    "ncit_id_list=[]\n",
    "ncit_def_list= []\n",
    "#find MAXO definitions ONLY with NCIT xrefs\n",
    "for index, row in maxo_id_def.iterrows():\n",
    "    if row[2].startswith(\"NCIT:\"):\n",
    "        for index, rows in ncit_id_def.iterrows():\n",
    "            #determine if the the MAXO def xref matches the NCIT ID\n",
    "            if row[2] == rows[0]:\n",
    "                maxo_id_list.append(row[0])\n",
    "                maxo_def_list.append(row[3])\n",
    "                maxo_def_xref_list.append(row[2])\n",
    "                ncit_def_list.append(rows[2])\n",
    "                ncit_id_list.append(rows[0])\n",
    "            else:\n",
    "                continue\n"
   ]
  },
  {
   "cell_type": "code",
   "execution_count": 8,
   "metadata": {},
   "outputs": [
    {
     "name": "stdout",
     "output_type": "stream",
     "text": [
      "        maxo_id                                           maxo_def  \\\n",
      "0  MAXO:0000455  The use of extreme cold to damage or destroy a...   \n",
      "1  MAXO:0000454  Removal, separation, detachment, extirpation, ...   \n",
      "2  MAXO:0000838  The determination of the ratio of the prothrom...   \n",
      "3  MAXO:0000146  A procedure to determine the number of cells i...   \n",
      "4  MAXO:0000728  A technique in which sound waves are sent out ...   \n",
      "\n",
      "  maxo_def_xref                                           ncit_def  \\\n",
      "0   NCIT:C15215  The use of extreme cold to damage or destroy a...   \n",
      "1  NCIT:C111157  Removal, separation, detachment, extirpation, ...   \n",
      "2  NCIT:C170591  The determination of the ratio of the prothrom...   \n",
      "3   NCIT:C48938  A procedure to determine the number of cells i...   \n",
      "4   NCIT:C17644  A technique in which sound waves are sent out ...   \n",
      "\n",
      "        ncit_id  \n",
      "0   NCIT:C15215  \n",
      "1  NCIT:C111157  \n",
      "2  NCIT:C170591  \n",
      "3   NCIT:C48938  \n",
      "4   NCIT:C17644  \n"
     ]
    }
   ],
   "source": [
    "\n",
    "maxo_ncit_def_df=pd.DataFrame(list(zip(maxo_id_list, maxo_def_list, maxo_def_xref_list, ncit_def_list, ncit_id_list,)), columns=[\"maxo_id\",\"maxo_def\", \"maxo_def_xref\", \"ncit_def\", \"ncit_id\"])\n",
    "print(maxo_ncit_def_df.head())\n",
    "\n",
    "with open(\"maxo_ncit_def.tsv\",'wb') as out:\n",
    "    maxo_ncit_def_df.to_csv('maxo_ncit_def.tsv', encoding='utf-8', sep='\\t', index=False)\n",
    "    \n"
   ]
  },
  {
   "cell_type": "code",
   "execution_count": null,
   "metadata": {},
   "outputs": [],
   "source": []
  }
 ],
 "metadata": {
  "kernelspec": {
   "display_name": "Python 3",
   "language": "python",
   "name": "python3"
  },
  "language_info": {
   "codemirror_mode": {
    "name": "ipython",
    "version": 3
   },
   "file_extension": ".py",
   "mimetype": "text/x-python",
   "name": "python",
   "nbconvert_exporter": "python",
   "pygments_lexer": "ipython3",
   "version": "3.7.3"
  }
 },
 "nbformat": 4,
 "nbformat_minor": 4
}
